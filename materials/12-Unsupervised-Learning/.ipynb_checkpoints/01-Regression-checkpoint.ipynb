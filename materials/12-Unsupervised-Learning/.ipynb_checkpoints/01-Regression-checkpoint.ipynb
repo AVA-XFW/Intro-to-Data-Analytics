{
 "cells": [
  {
   "cell_type": "markdown",
   "metadata": {
    "deletable": true,
    "editable": true
   },
   "source": [
    "### Regression: Predicting continuous labels\n",
    "\n",
    "In contrast with the discrete labels of a classification algorithm, we will next look at a simple *regression* task in which the labels are continuous quantities.\n",
    "\n",
    "Consider the data shown in the following figure, which consists of a set of points each with a continuous label:"
   ]
  },
  {
   "cell_type": "markdown",
   "metadata": {
    "deletable": true,
    "editable": true
   },
   "source": [
    "\n",
    "<img src=\"https://github.com/soltaniehha/Business-Analytics/blob/master/figs/12-01-regression-1.png?raw=true\" width=\"600\" align=\"center\"/>"
   ]
  },
  {
   "cell_type": "markdown",
   "metadata": {
    "deletable": true,
    "editable": true
   },
   "source": [
    "As with the classification example, we have two-dimensional data: that is, there are two features describing each data point.\n",
    "The color of each point represents the continuous label for that point.\n",
    "\n",
    "There are a number of possible regression models we might use for this type of data, but here we will use a simple linear regression to predict the points.\n",
    "This simple linear regression model assumes that if we treat the label as a third spatial dimension, we can fit a plane to the data.\n",
    "This is a higher-level generalization of the well-known problem of fitting a line to data with two coordinates.\n",
    "\n",
    "We can visualize this setup as shown in the following figure:"
   ]
  },
  {
   "cell_type": "markdown",
   "metadata": {
    "deletable": true,
    "editable": true
   },
   "source": [
    "\n",
    "<img src=\"https://github.com/soltaniehha/Business-Analytics/blob/master/figs/12-01-regression-2.png?raw=true\" width=\"800\" align=\"center\"/>"
   ]
  },
  {
   "cell_type": "markdown",
   "metadata": {
    "deletable": true,
    "editable": true
   },
   "source": [
    "Notice that the *feature 1-feature 2* plane here is the same as in the two-dimensional plot from before; in this case, however, we have represented the labels by both color and three-dimensional axis position.\n",
    "From this view, it seems reasonable that fitting a plane through this three-dimensional data would allow us to predict the expected label for any set of input parameters.\n",
    "Returning to the two-dimensional projection, when we fit such a plane we get the result shown in the following figure:"
   ]
  },
  {
   "cell_type": "markdown",
   "metadata": {
    "deletable": true,
    "editable": true
   },
   "source": [
    "\n",
    "<img src=\"https://github.com/soltaniehha/Business-Analytics/blob/master/figs/12-01-regression-3.png?raw=true\" width=\"600\" align=\"center\"/>"
   ]
  },
  {
   "cell_type": "markdown",
   "metadata": {
    "deletable": true,
    "editable": true
   },
   "source": [
    "This plane of fit gives us what we need to predict labels for new points.\n",
    "Visually, we find the results shown in the following figure:"
   ]
  },
  {
   "cell_type": "markdown",
   "metadata": {
    "deletable": true,
    "editable": true
   },
   "source": [
    "\n",
    "<img src=\"https://github.com/soltaniehha/Business-Analytics/blob/master/figs/12-01-regression-4.png?raw=true\" width=\"900\" align=\"center\"/>"
   ]
  },
  {
   "cell_type": "markdown",
   "metadata": {
    "deletable": true,
    "editable": true
   },
   "source": [
    "As with the classification example, this may seem rather trivial in a low number of dimensions.\n",
    "But the power of these methods is that they can be straightforwardly applied and evaluated in the case of data with many, many features.\n",
    "\n",
    "For example, this is similar to the task of computing the distance to galaxies observed through a telescope—in this case, we might use the following features and labels:\n",
    "\n",
    "- *feature 1*, *feature 2*, etc. $\\to$ brightness of each galaxy at one of several wave lengths or colors\n",
    "- *label* $\\to$ distance or redshift of the galaxy\n",
    "\n",
    "The distances for a small number of these galaxies might be determined through an independent set of (typically more expensive) observations.\n",
    "Distances to remaining galaxies could then be estimated using a suitable regression model, without the need to employ the more expensive observation across the entire set.\n",
    "In astronomy circles, this is known as the \"photometric redshift\" problem.\n",
    "\n",
    "Some important regression algorithms that we will discuss are linear regression (see [In Depth: Linear Regression](05.06-Linear-Regression.ipynb)), support vector machines (see [In-Depth: Support Vector Machines](05.07-Support-Vector-Machines.ipynb)), and random forest regression (see [In-Depth: Decision Trees and Random Forests](05.08-Random-Forests.ipynb))."
   ]
  },
  {
   "cell_type": "code",
   "execution_count": null,
   "metadata": {},
   "outputs": [],
   "source": []
  }
 ],
 "metadata": {
  "kernelspec": {
   "display_name": "Python 3",
   "language": "python",
   "name": "python3"
  },
  "language_info": {
   "codemirror_mode": {
    "name": "ipython",
    "version": 3
   },
   "file_extension": ".py",
   "mimetype": "text/x-python",
   "name": "python",
   "nbconvert_exporter": "python",
   "pygments_lexer": "ipython3",
   "version": "3.7.2"
  }
 },
 "nbformat": 4,
 "nbformat_minor": 2
}
