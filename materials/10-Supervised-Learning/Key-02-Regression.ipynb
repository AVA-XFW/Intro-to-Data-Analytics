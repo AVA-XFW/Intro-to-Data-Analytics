{
  "nbformat": 4,
  "nbformat_minor": 0,
  "metadata": {
    "kernelspec": {
      "display_name": "Python 3",
      "language": "python",
      "name": "python3"
    },
    "language_info": {
      "codemirror_mode": {
        "name": "ipython",
        "version": 3
      },
      "file_extension": ".py",
      "mimetype": "text/x-python",
      "name": "python",
      "nbconvert_exporter": "python",
      "pygments_lexer": "ipython3",
      "version": "3.7.2"
    },
    "colab": {
      "name": "Key-02-Regression.ipynb",
      "provenance": [],
      "collapsed_sections": []
    }
  },
  "cells": [
    {
      "cell_type": "markdown",
      "metadata": {
        "deletable": true,
        "editable": true,
        "id": "okiYXfYpcJtO",
        "colab_type": "text"
      },
      "source": [
        "### Regression: Predicting continuous labels\n",
        "\n",
        "In contrast with the discrete labels of a classification algorithm, we will next look at a simple *regression* task in which the labels are continuous quantities.\n",
        "\n",
        "Consider the data shown in the following figure, which consists of a set of points each with a continuous label:"
      ]
    },
    {
      "cell_type": "markdown",
      "metadata": {
        "deletable": true,
        "editable": true,
        "id": "JX8ojBDEcJtP",
        "colab_type": "text"
      },
      "source": [
        "\n",
        "<img src=\"https://github.com/soltaniehha/Business-Analytics/blob/master/figs/12-01-regression-1.png?raw=true\" width=\"600\" align=\"center\"/>"
      ]
    },
    {
      "cell_type": "markdown",
      "metadata": {
        "deletable": true,
        "editable": true,
        "id": "zml2t5kwcJtQ",
        "colab_type": "text"
      },
      "source": [
        "As with the classification example, we have two-dimensional data: that is, there are two features describing each data point.\n",
        "The color of each point represents the continuous label for that point.\n",
        "\n",
        "There are a number of possible regression models we might use for this type of data, but here we will use a simple linear regression to predict the points.\n",
        "This simple linear regression model assumes that if we treat the label as a third spatial dimension, we can fit a plane to the data.\n",
        "This is a higher-level generalization of the well-known problem of fitting a line to data with two coordinates.\n",
        "\n",
        "We can visualize this setup as shown in the following figure:"
      ]
    },
    {
      "cell_type": "markdown",
      "metadata": {
        "deletable": true,
        "editable": true,
        "id": "kKJIbtOqcJtQ",
        "colab_type": "text"
      },
      "source": [
        "\n",
        "<img src=\"https://github.com/soltaniehha/Business-Analytics/blob/master/figs/12-01-regression-2.png?raw=true\" width=\"800\" align=\"center\"/>"
      ]
    },
    {
      "cell_type": "markdown",
      "metadata": {
        "deletable": true,
        "editable": true,
        "id": "xAHahEpacJtR",
        "colab_type": "text"
      },
      "source": [
        "Notice that the *feature 1-feature 2* plane here is the same as in the two-dimensional plot from before; in this case, however, we have represented the labels by both color and three-dimensional axis position.\n",
        "From this view, it seems reasonable that fitting a plane through this three-dimensional data would allow us to predict the expected label for any set of input parameters.\n",
        "Returning to the two-dimensional projection, when we fit such a plane we get the result shown in the following figure:"
      ]
    },
    {
      "cell_type": "markdown",
      "metadata": {
        "deletable": true,
        "editable": true,
        "id": "1RbDkRJ_cJtR",
        "colab_type": "text"
      },
      "source": [
        "\n",
        "<img src=\"https://github.com/soltaniehha/Business-Analytics/blob/master/figs/12-01-regression-3.png?raw=true\" width=\"600\" align=\"center\"/>"
      ]
    },
    {
      "cell_type": "markdown",
      "metadata": {
        "deletable": true,
        "editable": true,
        "id": "QU0H1jAwcJtS",
        "colab_type": "text"
      },
      "source": [
        "This plane of fit gives us what we need to predict labels for new points.\n",
        "Visually, we find the results shown in the following figure:"
      ]
    },
    {
      "cell_type": "markdown",
      "metadata": {
        "deletable": true,
        "editable": true,
        "id": "zQhNWZYtcJtS",
        "colab_type": "text"
      },
      "source": [
        "\n",
        "<img src=\"https://github.com/soltaniehha/Business-Analytics/blob/master/figs/12-01-regression-4.png?raw=true\" width=\"900\" align=\"center\"/>"
      ]
    },
    {
      "cell_type": "markdown",
      "metadata": {
        "deletable": true,
        "editable": true,
        "id": "i20a27agcJtT",
        "colab_type": "text"
      },
      "source": [
        "As with the classification example, this may seem rather trivial in a low number of dimensions.\n",
        "But the power of these methods is that they can be straightforwardly applied and evaluated in the case of data with many, many features.\n",
        "\n",
        "For example, this is similar to the task of computing the apparent temperature (feels like), we might use the following features and labels:\n",
        "\n",
        "- *feature 1*, *feature 2*, etc. $\\to$ temperature, humidity, or wind speed\n",
        "- *label* $\\to$ apparent temperature\n",
        "\n",
        "The apparent temperature for a small number of data points might be determined through an independent set of (typically more expensive) observations.\n",
        "Apparent temperature to remaining data points could then be estimated using a suitable regression model, without the need to employ the more expensive observation across the entire set."
      ]
    },
    {
      "cell_type": "markdown",
      "metadata": {
        "id": "KJeV7R9ncJtT",
        "colab_type": "text"
      },
      "source": [
        "# Example Linear Regression - Apparent Temperature\n",
        "\n",
        "Goal: predict the apparent temperature from a series of measurements.\n",
        "\n",
        "Data was download from [Kaggle](https://www.kaggle.com/budincsevity/szeged-weather#weatherHistory.csv) and can be loaded directly from the course's GitHub. It includes hourly weather data for Szeged, Hungary area from 2006 to 2016:"
      ]
    },
    {
      "cell_type": "code",
      "metadata": {
        "id": "HqBOYY7qcJtU",
        "colab_type": "code",
        "colab": {
          "base_uri": "https://localhost:8080/",
          "height": 331
        },
        "outputId": "69fe9f03-6bd5-464f-c0fe-6b33a25c8ef2"
      },
      "source": [
        "from IPython.display import Pretty as disp\n",
        "hint = 'https://raw.githubusercontent.com/soltaniehha/Business-Analytics/master/docs/hints/'  # path to hints on GitHub\n",
        "\n",
        "import pandas as pd\n",
        "import seaborn as sns\n",
        "import matplotlib.pyplot as plt\n",
        "\n",
        "sns.set(style=\"white\")\n",
        "df = pd.read_csv('https://raw.githubusercontent.com/soltaniehha/Business-Analytics/master/data/weatherHistory.csv')\n",
        "df.head(3)"
      ],
      "execution_count": 1,
      "outputs": [
        {
          "output_type": "stream",
          "text": [
            "/usr/local/lib/python3.6/dist-packages/statsmodels/tools/_testing.py:19: FutureWarning: pandas.util.testing is deprecated. Use the functions in the public API at pandas.testing instead.\n",
            "  import pandas.util.testing as tm\n"
          ],
          "name": "stderr"
        },
        {
          "output_type": "execute_result",
          "data": {
            "text/html": [
              "<div>\n",
              "<style scoped>\n",
              "    .dataframe tbody tr th:only-of-type {\n",
              "        vertical-align: middle;\n",
              "    }\n",
              "\n",
              "    .dataframe tbody tr th {\n",
              "        vertical-align: top;\n",
              "    }\n",
              "\n",
              "    .dataframe thead th {\n",
              "        text-align: right;\n",
              "    }\n",
              "</style>\n",
              "<table border=\"1\" class=\"dataframe\">\n",
              "  <thead>\n",
              "    <tr style=\"text-align: right;\">\n",
              "      <th></th>\n",
              "      <th>Formatted Date</th>\n",
              "      <th>Summary</th>\n",
              "      <th>Precip Type</th>\n",
              "      <th>Temperature (C)</th>\n",
              "      <th>Apparent Temperature (C)</th>\n",
              "      <th>Humidity</th>\n",
              "      <th>Wind Speed (km/h)</th>\n",
              "      <th>Wind Bearing (degrees)</th>\n",
              "      <th>Visibility (km)</th>\n",
              "      <th>Loud Cover</th>\n",
              "      <th>Pressure (millibars)</th>\n",
              "      <th>Daily Summary</th>\n",
              "    </tr>\n",
              "  </thead>\n",
              "  <tbody>\n",
              "    <tr>\n",
              "      <th>0</th>\n",
              "      <td>2006-04-01 00:00:00.000 +0200</td>\n",
              "      <td>Partly Cloudy</td>\n",
              "      <td>rain</td>\n",
              "      <td>9.472222</td>\n",
              "      <td>7.388889</td>\n",
              "      <td>0.89</td>\n",
              "      <td>14.1197</td>\n",
              "      <td>251.0</td>\n",
              "      <td>15.8263</td>\n",
              "      <td>0.0</td>\n",
              "      <td>1015.13</td>\n",
              "      <td>Partly cloudy throughout the day.</td>\n",
              "    </tr>\n",
              "    <tr>\n",
              "      <th>1</th>\n",
              "      <td>2006-04-01 01:00:00.000 +0200</td>\n",
              "      <td>Partly Cloudy</td>\n",
              "      <td>rain</td>\n",
              "      <td>9.355556</td>\n",
              "      <td>7.227778</td>\n",
              "      <td>0.86</td>\n",
              "      <td>14.2646</td>\n",
              "      <td>259.0</td>\n",
              "      <td>15.8263</td>\n",
              "      <td>0.0</td>\n",
              "      <td>1015.63</td>\n",
              "      <td>Partly cloudy throughout the day.</td>\n",
              "    </tr>\n",
              "    <tr>\n",
              "      <th>2</th>\n",
              "      <td>2006-04-01 02:00:00.000 +0200</td>\n",
              "      <td>Mostly Cloudy</td>\n",
              "      <td>rain</td>\n",
              "      <td>9.377778</td>\n",
              "      <td>9.377778</td>\n",
              "      <td>0.89</td>\n",
              "      <td>3.9284</td>\n",
              "      <td>204.0</td>\n",
              "      <td>14.9569</td>\n",
              "      <td>0.0</td>\n",
              "      <td>1015.94</td>\n",
              "      <td>Partly cloudy throughout the day.</td>\n",
              "    </tr>\n",
              "  </tbody>\n",
              "</table>\n",
              "</div>"
            ],
            "text/plain": [
              "                  Formatted Date  ...                      Daily Summary\n",
              "0  2006-04-01 00:00:00.000 +0200  ...  Partly cloudy throughout the day.\n",
              "1  2006-04-01 01:00:00.000 +0200  ...  Partly cloudy throughout the day.\n",
              "2  2006-04-01 02:00:00.000 +0200  ...  Partly cloudy throughout the day.\n",
              "\n",
              "[3 rows x 12 columns]"
            ]
          },
          "metadata": {
            "tags": []
          },
          "execution_count": 1
        }
      ]
    },
    {
      "cell_type": "code",
      "metadata": {
        "id": "j3Nl6kU6cJtY",
        "colab_type": "code",
        "colab": {
          "base_uri": "https://localhost:8080/",
          "height": 345
        },
        "outputId": "ce1e70c4-5232-42da-b405-1cd84033e7df"
      },
      "source": [
        "df.info()"
      ],
      "execution_count": 2,
      "outputs": [
        {
          "output_type": "stream",
          "text": [
            "<class 'pandas.core.frame.DataFrame'>\n",
            "RangeIndex: 96453 entries, 0 to 96452\n",
            "Data columns (total 12 columns):\n",
            " #   Column                    Non-Null Count  Dtype  \n",
            "---  ------                    --------------  -----  \n",
            " 0   Formatted Date            96453 non-null  object \n",
            " 1   Summary                   96453 non-null  object \n",
            " 2   Precip Type               95936 non-null  object \n",
            " 3   Temperature (C)           96453 non-null  float64\n",
            " 4   Apparent Temperature (C)  96453 non-null  float64\n",
            " 5   Humidity                  96453 non-null  float64\n",
            " 6   Wind Speed (km/h)         96453 non-null  float64\n",
            " 7   Wind Bearing (degrees)    96453 non-null  float64\n",
            " 8   Visibility (km)           96453 non-null  float64\n",
            " 9   Loud Cover                96453 non-null  float64\n",
            " 10  Pressure (millibars)      96453 non-null  float64\n",
            " 11  Daily Summary             96453 non-null  object \n",
            "dtypes: float64(8), object(4)\n",
            "memory usage: 8.8+ MB\n"
          ],
          "name": "stdout"
        }
      ]
    },
    {
      "cell_type": "markdown",
      "metadata": {
        "id": "21gQmgWRcJta",
        "colab_type": "text"
      },
      "source": [
        "## Preprocessing\n",
        "\n",
        "1. There are a small number of NAs in \"Precip Type\"; we will drop all the NAs\n",
        "2. We won't need the following fields, we will drop them: 'Formatted Date', 'Summary', 'Daily Summary'\n",
        "3. We will convert 'Precip Type' to dummy variables. Note that we've used `drop_first=True` so we won't have to drop one of the categories"
      ]
    },
    {
      "cell_type": "code",
      "metadata": {
        "id": "EqrK4qC7cJta",
        "colab_type": "code",
        "colab": {
          "base_uri": "https://localhost:8080/",
          "height": 294
        },
        "outputId": "a239c9f6-1aa1-454a-9c6b-0f474103e481"
      },
      "source": [
        "df = df.dropna()\n",
        "df = df.drop(['Formatted Date','Summary','Daily Summary'], axis=1)\n",
        "df = pd.get_dummies(df, ['Precip Type'], drop_first=True)\n",
        "df.info()"
      ],
      "execution_count": 3,
      "outputs": [
        {
          "output_type": "stream",
          "text": [
            "<class 'pandas.core.frame.DataFrame'>\n",
            "Int64Index: 95936 entries, 0 to 96452\n",
            "Data columns (total 9 columns):\n",
            " #   Column                    Non-Null Count  Dtype  \n",
            "---  ------                    --------------  -----  \n",
            " 0   Temperature (C)           95936 non-null  float64\n",
            " 1   Apparent Temperature (C)  95936 non-null  float64\n",
            " 2   Humidity                  95936 non-null  float64\n",
            " 3   Wind Speed (km/h)         95936 non-null  float64\n",
            " 4   Wind Bearing (degrees)    95936 non-null  float64\n",
            " 5   Visibility (km)           95936 non-null  float64\n",
            " 6   Loud Cover                95936 non-null  float64\n",
            " 7   Pressure (millibars)      95936 non-null  float64\n",
            " 8   Precip Type_snow          95936 non-null  uint8  \n",
            "dtypes: float64(8), uint8(1)\n",
            "memory usage: 6.7 MB\n"
          ],
          "name": "stdout"
        }
      ]
    },
    {
      "cell_type": "markdown",
      "metadata": {
        "id": "mbmjriGWcJtc",
        "colab_type": "text"
      },
      "source": [
        "Create a feature DataFrame called `X`; our target variable is 'Apparent Temperature (C)' and that's what we need to exclude in the feature DataFrame:"
      ]
    },
    {
      "cell_type": "code",
      "metadata": {
        "id": "ODtVkoSlcJtd",
        "colab_type": "code",
        "colab": {}
      },
      "source": [
        "# Your answer goes here\n"
      ],
      "execution_count": 0,
      "outputs": []
    },
    {
      "cell_type": "code",
      "metadata": {
        "id": "ZnkTA0GWcJtf",
        "colab_type": "code",
        "colab": {
          "base_uri": "https://localhost:8080/",
          "height": 35
        },
        "outputId": "4c57acbf-1fd8-4d6e-d52f-2313cd1870f8"
      },
      "source": [
        "# Don't run this cell to keep the outcome as your frame of reference\n",
        "X = df.drop('Apparent Temperature (C)', axis=1)\n",
        "X.shape"
      ],
      "execution_count": 4,
      "outputs": [
        {
          "output_type": "execute_result",
          "data": {
            "text/plain": [
              "(95936, 8)"
            ]
          },
          "metadata": {
            "tags": []
          },
          "execution_count": 4
        }
      ]
    },
    {
      "cell_type": "code",
      "metadata": {
        "id": "UswbQiMlcJth",
        "colab_type": "code",
        "colab": {}
      },
      "source": [
        "# SOLUTION: Uncomment and execute the line below to get help\n",
        "#disp(hint + '11-03-X')"
      ],
      "execution_count": 0,
      "outputs": []
    },
    {
      "cell_type": "markdown",
      "metadata": {
        "id": "OhxNXy29cJtj",
        "colab_type": "text"
      },
      "source": [
        "Create a target vector with 'Apparent Temperature (C)' and call it `y`:"
      ]
    },
    {
      "cell_type": "code",
      "metadata": {
        "id": "ek_tYboPcJtk",
        "colab_type": "code",
        "colab": {}
      },
      "source": [
        "# Your answer goes here\n"
      ],
      "execution_count": 0,
      "outputs": []
    },
    {
      "cell_type": "code",
      "metadata": {
        "id": "_FuGFB_dcJtl",
        "colab_type": "code",
        "colab": {
          "base_uri": "https://localhost:8080/",
          "height": 35
        },
        "outputId": "56f60cee-168f-4046-a60a-b6960070915c"
      },
      "source": [
        "# Don't run this cell to keep the outcome as your frame of reference\n",
        "y = df['Apparent Temperature (C)']\n",
        "y.shape"
      ],
      "execution_count": 6,
      "outputs": [
        {
          "output_type": "execute_result",
          "data": {
            "text/plain": [
              "(95936,)"
            ]
          },
          "metadata": {
            "tags": []
          },
          "execution_count": 6
        }
      ]
    },
    {
      "cell_type": "code",
      "metadata": {
        "id": "BB-m1A_JcJto",
        "colab_type": "code",
        "colab": {}
      },
      "source": [
        "# SOLUTION: Uncomment and execute the line below to get help\n",
        "#disp(hint + '11-03-y')"
      ],
      "execution_count": 0,
      "outputs": []
    },
    {
      "cell_type": "markdown",
      "metadata": {
        "id": "HGMxBAoWcJtq",
        "colab_type": "text"
      },
      "source": [
        "We would like to evaluate the model on data it has not seen before, and so we will split the data into a training set and a testing set. Use a 30% split for test. You can use seed value 833 if you would like to get similar values as this notebook:"
      ]
    },
    {
      "cell_type": "code",
      "metadata": {
        "id": "SidxLy-JcJtr",
        "colab_type": "code",
        "colab": {}
      },
      "source": [
        "# Your answer goes here\n",
        "from sklearn.model_selection import train_test_split\n",
        "Xtrain, Xtest, ytrain, ytest = train_test_split(X, y, test_size=0.3, random_state=833)"
      ],
      "execution_count": 0,
      "outputs": []
    },
    {
      "cell_type": "code",
      "metadata": {
        "id": "yrwFLEmdcJtu",
        "colab_type": "code",
        "colab": {}
      },
      "source": [
        "# SOLUTION: Uncomment and execute the line below to get help\n",
        "#disp(hint + '11-03-split')"
      ],
      "execution_count": 0,
      "outputs": []
    },
    {
      "cell_type": "code",
      "metadata": {
        "id": "QPIdzceDcJtv",
        "colab_type": "code",
        "colab": {
          "base_uri": "https://localhost:8080/",
          "height": 52
        },
        "outputId": "ac4ef5dd-949c-4fb0-d983-5700ebf0a832"
      },
      "source": [
        "print(\"Xtrain shape:\", Xtrain.shape)\n",
        "print(\"Xtest shape:\", Xtest.shape)"
      ],
      "execution_count": 10,
      "outputs": [
        {
          "output_type": "stream",
          "text": [
            "Xtrain shape: (67155, 8)\n",
            "Xtest shape: (28781, 8)\n"
          ],
          "name": "stdout"
        }
      ]
    },
    {
      "cell_type": "markdown",
      "metadata": {
        "id": "i8AfFEdAcJtx",
        "colab_type": "text"
      },
      "source": [
        "With the data arranged, we can follow our recipe to predict the labels:\n",
        "\n",
        "First, instantiate a simple linear regrssion model. You would first need to import `LinearRegression`; it can be found under the `linear_model` module in `sklearn`. Call this model: `model`.\n",
        "\n",
        "We will instantiate the model with all the default parameters:"
      ]
    },
    {
      "cell_type": "code",
      "metadata": {
        "id": "q_-sCKGLcJty",
        "colab_type": "code",
        "colab": {}
      },
      "source": [
        "# Your answer goes here\n",
        "from sklearn.linear_model import LinearRegression\n",
        "model = LinearRegression()"
      ],
      "execution_count": 0,
      "outputs": []
    },
    {
      "cell_type": "code",
      "metadata": {
        "id": "7Ls101rOcJtz",
        "colab_type": "code",
        "colab": {}
      },
      "source": [
        "# SOLUTION: Uncomment and execute the line below to get help\n",
        "#disp(hint + '11-03-model')"
      ],
      "execution_count": 0,
      "outputs": []
    },
    {
      "cell_type": "markdown",
      "metadata": {
        "id": "hdwmw3rDcJt1",
        "colab_type": "text"
      },
      "source": [
        "Fit model to the training data:"
      ]
    },
    {
      "cell_type": "code",
      "metadata": {
        "id": "EVP8EOFgcJt1",
        "colab_type": "code",
        "colab": {}
      },
      "source": [
        "# Your answer goes here\n",
        "model.fit(Xtrain, ytrain);"
      ],
      "execution_count": 0,
      "outputs": []
    },
    {
      "cell_type": "code",
      "metadata": {
        "id": "k9FlCPbRcJt4",
        "colab_type": "code",
        "colab": {}
      },
      "source": [
        "# SOLUTION: Uncomment and execute the line below to get help\n",
        "#disp(hint + '11-03-fit')"
      ],
      "execution_count": 0,
      "outputs": []
    },
    {
      "cell_type": "code",
      "metadata": {
        "id": "6MNk3PbmcJt7",
        "colab_type": "code",
        "colab": {
          "base_uri": "https://localhost:8080/",
          "height": 69
        },
        "outputId": "abb26082-81f4-4c40-e4aa-a7df1fba7de9"
      },
      "source": [
        "print(\"Model coefficients:    \", model.coef_)\n",
        "print(\"Model intercept:\", model.intercept_)"
      ],
      "execution_count": 15,
      "outputs": [
        {
          "output_type": "stream",
          "text": [
            "Model coefficients:     [ 1.11498595e+00  8.15312898e-01 -9.83346648e-02  5.64326715e-04\n",
            " -5.12608024e-03  2.77555756e-16  2.53644730e-04 -4.52137379e-01]\n",
            "Model intercept: -2.246457802141938\n"
          ],
          "name": "stdout"
        }
      ]
    },
    {
      "cell_type": "markdown",
      "metadata": {
        "id": "sLCQsuALcJt8",
        "colab_type": "text"
      },
      "source": [
        "predict on new (test) data and store the results as `y_model`:"
      ]
    },
    {
      "cell_type": "code",
      "metadata": {
        "id": "bWB9jyWbcJt9",
        "colab_type": "code",
        "colab": {}
      },
      "source": [
        "# Your answer goes here\n",
        "y_model = model.predict(Xtest)"
      ],
      "execution_count": 0,
      "outputs": []
    },
    {
      "cell_type": "code",
      "metadata": {
        "id": "Juyho_O1cJt-",
        "colab_type": "code",
        "colab": {}
      },
      "source": [
        "# SOLUTION: Uncomment and execute the line below to get help\n",
        "#disp(hint + '11-03-predict')"
      ],
      "execution_count": 0,
      "outputs": []
    },
    {
      "cell_type": "markdown",
      "metadata": {
        "id": "JdfUUN7wcJuA",
        "colab_type": "text"
      },
      "source": [
        "Now that our predictions are ready we can merge them along with the ground truth, our 'Apparent Temperature (C)' field, to the test features and visually inspect our model performance:"
      ]
    },
    {
      "cell_type": "code",
      "metadata": {
        "id": "5X0o_Tj0cJuA",
        "colab_type": "code",
        "colab": {
          "base_uri": "https://localhost:8080/",
          "height": 215
        },
        "outputId": "da6d1590-0b9c-4cef-af13-96b510da0e66"
      },
      "source": [
        "test = Xtest.join(ytest).reset_index()\n",
        "test.join(pd.Series(y_model, name='predicted')).head()"
      ],
      "execution_count": 18,
      "outputs": [
        {
          "output_type": "execute_result",
          "data": {
            "text/html": [
              "<div>\n",
              "<style scoped>\n",
              "    .dataframe tbody tr th:only-of-type {\n",
              "        vertical-align: middle;\n",
              "    }\n",
              "\n",
              "    .dataframe tbody tr th {\n",
              "        vertical-align: top;\n",
              "    }\n",
              "\n",
              "    .dataframe thead th {\n",
              "        text-align: right;\n",
              "    }\n",
              "</style>\n",
              "<table border=\"1\" class=\"dataframe\">\n",
              "  <thead>\n",
              "    <tr style=\"text-align: right;\">\n",
              "      <th></th>\n",
              "      <th>index</th>\n",
              "      <th>Temperature (C)</th>\n",
              "      <th>Humidity</th>\n",
              "      <th>Wind Speed (km/h)</th>\n",
              "      <th>Wind Bearing (degrees)</th>\n",
              "      <th>Visibility (km)</th>\n",
              "      <th>Loud Cover</th>\n",
              "      <th>Pressure (millibars)</th>\n",
              "      <th>Precip Type_snow</th>\n",
              "      <th>Apparent Temperature (C)</th>\n",
              "      <th>predicted</th>\n",
              "    </tr>\n",
              "  </thead>\n",
              "  <tbody>\n",
              "    <tr>\n",
              "      <th>0</th>\n",
              "      <td>34226</td>\n",
              "      <td>8.961111</td>\n",
              "      <td>0.86</td>\n",
              "      <td>0.0000</td>\n",
              "      <td>0.0</td>\n",
              "      <td>9.9820</td>\n",
              "      <td>0.0</td>\n",
              "      <td>1017.88</td>\n",
              "      <td>0</td>\n",
              "      <td>8.961111</td>\n",
              "      <td>8.653236</td>\n",
              "    </tr>\n",
              "    <tr>\n",
              "      <th>1</th>\n",
              "      <td>8809</td>\n",
              "      <td>7.711111</td>\n",
              "      <td>0.71</td>\n",
              "      <td>3.1878</td>\n",
              "      <td>232.0</td>\n",
              "      <td>15.8263</td>\n",
              "      <td>0.0</td>\n",
              "      <td>1017.13</td>\n",
              "      <td>0</td>\n",
              "      <td>7.711111</td>\n",
              "      <td>6.924510</td>\n",
              "    </tr>\n",
              "    <tr>\n",
              "      <th>2</th>\n",
              "      <td>22702</td>\n",
              "      <td>7.483333</td>\n",
              "      <td>0.74</td>\n",
              "      <td>10.9963</td>\n",
              "      <td>173.0</td>\n",
              "      <td>14.9569</td>\n",
              "      <td>0.0</td>\n",
              "      <td>1005.66</td>\n",
              "      <td>0</td>\n",
              "      <td>5.455556</td>\n",
              "      <td>5.895406</td>\n",
              "    </tr>\n",
              "    <tr>\n",
              "      <th>3</th>\n",
              "      <td>38626</td>\n",
              "      <td>2.044444</td>\n",
              "      <td>0.86</td>\n",
              "      <td>15.9229</td>\n",
              "      <td>160.0</td>\n",
              "      <td>10.7226</td>\n",
              "      <td>0.0</td>\n",
              "      <td>1000.24</td>\n",
              "      <td>0</td>\n",
              "      <td>-2.033333</td>\n",
              "      <td>-0.542502</td>\n",
              "    </tr>\n",
              "    <tr>\n",
              "      <th>4</th>\n",
              "      <td>94118</td>\n",
              "      <td>25.044444</td>\n",
              "      <td>0.39</td>\n",
              "      <td>20.0767</td>\n",
              "      <td>250.0</td>\n",
              "      <td>16.1000</td>\n",
              "      <td>0.0</td>\n",
              "      <td>1010.90</td>\n",
              "      <td>0</td>\n",
              "      <td>25.044444</td>\n",
              "      <td>24.336444</td>\n",
              "    </tr>\n",
              "  </tbody>\n",
              "</table>\n",
              "</div>"
            ],
            "text/plain": [
              "   index  Temperature (C)  ...  Apparent Temperature (C)  predicted\n",
              "0  34226         8.961111  ...                  8.961111   8.653236\n",
              "1   8809         7.711111  ...                  7.711111   6.924510\n",
              "2  22702         7.483333  ...                  5.455556   5.895406\n",
              "3  38626         2.044444  ...                 -2.033333  -0.542502\n",
              "4  94118        25.044444  ...                 25.044444  24.336444\n",
              "\n",
              "[5 rows x 11 columns]"
            ]
          },
          "metadata": {
            "tags": []
          },
          "execution_count": 18
        }
      ]
    },
    {
      "cell_type": "markdown",
      "metadata": {
        "id": "POJrpyFCcJuC",
        "colab_type": "text"
      },
      "source": [
        "Calculating the mean absolute error:"
      ]
    },
    {
      "cell_type": "code",
      "metadata": {
        "id": "YxIdoAQHcJuC",
        "colab_type": "code",
        "colab": {
          "base_uri": "https://localhost:8080/",
          "height": 35
        },
        "outputId": "222330f7-a7ae-47fc-d75f-8ead123f07b4"
      },
      "source": [
        "from sklearn.metrics import mean_absolute_error\n",
        "mean_absolute_error(ytest, y_model)"
      ],
      "execution_count": 19,
      "outputs": [
        {
          "output_type": "execute_result",
          "data": {
            "text/plain": [
              "0.8394700118761536"
            ]
          },
          "metadata": {
            "tags": []
          },
          "execution_count": 19
        }
      ]
    }
  ]
}