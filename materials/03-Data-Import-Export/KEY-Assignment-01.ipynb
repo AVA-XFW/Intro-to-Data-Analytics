{
  "nbformat": 4,
  "nbformat_minor": 0,
  "metadata": {
    "kernelspec": {
      "display_name": "Python 3",
      "language": "python",
      "name": "python3"
    },
    "language_info": {
      "codemirror_mode": {
        "name": "ipython",
        "version": 3
      },
      "file_extension": ".py",
      "mimetype": "text/x-python",
      "name": "python",
      "nbconvert_exporter": "python",
      "pygments_lexer": "ipython3",
      "version": "3.7.2"
    },
    "colab": {
      "name": "KEY-Assignment-01.ipynb",
      "provenance": []
    }
  },
  "cells": [
    {
      "cell_type": "markdown",
      "metadata": {
        "id": "wWqKAC5o9b2W",
        "colab_type": "text"
      },
      "source": [
        "# Assignment 1\n",
        "\n",
        "This assignment is to test your understanding of Python basics.\n",
        "\n",
        "Answer the questions and complete the tasks outlined below; use the specific method described, if applicable. In order to get complete points on your homework assigment you have to a) complete this notebook, b) based on your results answer the multiple choice questions on QoestromTools. \n",
        "\n",
        "**Important note:** make sure you spend some time to review the basics of python notebooks under the folder `00-Python-Basics` in course repo or [A Whirlwind Tour of Python](https://www.oreilly.com/programming/free/files/a-whirlwind-tour-of-python.pdf)."
      ]
    },
    {
      "cell_type": "markdown",
      "metadata": {
        "id": "-WvDcI8r9e8N",
        "colab_type": "text"
      },
      "source": [
        "# Question 1\n",
        "**What is 9 to the power of 7?**"
      ]
    },
    {
      "cell_type": "code",
      "metadata": {
        "id": "XzisjM4h9b2Z",
        "colab_type": "code",
        "colab": {},
        "outputId": "6d7bab79-c167-40d3-ac86-b4fa7b2460ab"
      },
      "source": [
        "# Your answer goes here\n",
        "9 ** 7"
      ],
      "execution_count": 0,
      "outputs": [
        {
          "output_type": "execute_result",
          "data": {
            "text/plain": [
              "4782969"
            ]
          },
          "metadata": {
            "tags": []
          },
          "execution_count": 1
        }
      ]
    },
    {
      "cell_type": "markdown",
      "metadata": {
        "id": "iw1F3q3M9b2d",
        "colab_type": "text"
      },
      "source": [
        "# Question 2\n",
        "\n",
        "**What is the quotient and remainder of 453634/34?**"
      ]
    },
    {
      "cell_type": "code",
      "metadata": {
        "id": "-8V2Prt_9b2e",
        "colab_type": "code",
        "colab": {},
        "outputId": "b022f7aa-7be2-48b0-92ad-dadcd553f5d2"
      },
      "source": [
        "# Your answer goes here\n",
        "print('Quotient of 453634/34:', 453634 // 34)\n",
        "print('Remainder of 453634/34:', 453634 % 34)"
      ],
      "execution_count": 0,
      "outputs": [
        {
          "output_type": "stream",
          "text": [
            "Quotient of 453634//34: 13342\n",
            "Remainder of 453634//34: 6\n"
          ],
          "name": "stdout"
        }
      ]
    },
    {
      "cell_type": "markdown",
      "metadata": {
        "id": "uhIcHdCv9b2h",
        "colab_type": "text"
      },
      "source": [
        "# Question 3\n",
        "\n",
        "Write a statement to check whether `a` is a multiple of 7 and within the range of [1000, 1800) or (0, 300]. \n",
        "\n",
        "**What is the outcome of `a = 833`?**\n",
        "\n",
        "Note: (0, 300] represents a range from 0 to 300, where 0 is not included in the range, but 300 is."
      ]
    },
    {
      "cell_type": "code",
      "metadata": {
        "id": "d4tVbqYa9b2i",
        "colab_type": "code",
        "colab": {}
      },
      "source": [
        "a = 833"
      ],
      "execution_count": 0,
      "outputs": []
    },
    {
      "cell_type": "code",
      "metadata": {
        "id": "Oaje5oiQ9b2k",
        "colab_type": "code",
        "colab": {},
        "outputId": "3dfd24ea-10f5-4348-c8c1-7f2c9ed5a20b"
      },
      "source": [
        "# Your answer goes here\n",
        "(a % 7 == 0) and ((0 < a <= 300) or (1000 <= a < 1800))"
      ],
      "execution_count": 0,
      "outputs": [
        {
          "output_type": "execute_result",
          "data": {
            "text/plain": [
              "False"
            ]
          },
          "metadata": {
            "tags": []
          },
          "execution_count": 3
        }
      ]
    },
    {
      "cell_type": "markdown",
      "metadata": {
        "id": "3VKo4KqC9b2n",
        "colab_type": "text"
      },
      "source": [
        "# Question 4\n",
        "\n",
        "**Given this nested list, what indexing yields to the word \"hello\"?**"
      ]
    },
    {
      "cell_type": "code",
      "metadata": {
        "id": "kITAY3YA9b2o",
        "colab_type": "code",
        "colab": {},
        "outputId": "53b51b91-f1c3-4f11-e52a-8c6a6ad6a3c9"
      },
      "source": [
        "lst = [[5,[100,200,{'target':[1,2,3,'hello']}],23,11],1,71,2,[3,4],'bye']\n",
        "print(lst)"
      ],
      "execution_count": 0,
      "outputs": [
        {
          "output_type": "stream",
          "text": [
            "[[5, [100, 200, {'target': [1, 2, 3, 'hello']}], 23, 11], 1, 71, 2, [3, 4], 'bye']\n"
          ],
          "name": "stdout"
        }
      ]
    },
    {
      "cell_type": "code",
      "metadata": {
        "id": "ltr4AnhM9b2r",
        "colab_type": "code",
        "colab": {},
        "outputId": "637ff979-85b9-42ea-c57d-e472de995cff"
      },
      "source": [
        "# Your answer goes here\n",
        "lst[0][1][2]['target'][3]"
      ],
      "execution_count": 0,
      "outputs": [
        {
          "output_type": "execute_result",
          "data": {
            "text/plain": [
              "'hello'"
            ]
          },
          "metadata": {
            "tags": []
          },
          "execution_count": 6
        }
      ]
    },
    {
      "cell_type": "markdown",
      "metadata": {
        "id": "xkxmCuKC9b2t",
        "colab_type": "text"
      },
      "source": [
        "# Question 5\n",
        "\n",
        "Using a list comprehension, create a new list out of the list `L1`, which contains only the even numbers from `L1`, and converts them into absolute values (using `abs()` function). Call this new list `L2`.\n",
        "\n",
        "**What is the sum of all of the elements of `L2`?** \n",
        "\n",
        "Hint: Use `sum(L2)` to get the sum of all the elements."
      ]
    },
    {
      "cell_type": "code",
      "metadata": {
        "id": "Bf9v6gex9b2u",
        "colab_type": "code",
        "colab": {}
      },
      "source": [
        "L1 = [64,  34, 112,  91,  62,  40, 117,  80,  96,  34,  48,  -9, -33,\n",
        "      99,  16, 118, -51,  60, 115,   4, -10,  82,  -7,  77, -33, -40,\n",
        "      77,  90,  -9,  52, -44,  25, -43,  28, -37,  92,  25, -45,   3,\n",
        "      103,  22,  39, -52,  74, -54, -76, -10,   5, -54,  95, -59,  -2,\n",
        "      110,  63, -53, 113, -43,  18,  49, -20,  81, -67,   1,  38, -24,\n",
        "      57, -11, -69, -66, -67, -68, -16,  64, -34,  52, -37,  -7, -40,\n",
        "      11,  -3,  76,  91, -57, -48, -10, -16,  14,  13, -65]"
      ],
      "execution_count": 0,
      "outputs": []
    },
    {
      "cell_type": "code",
      "metadata": {
        "id": "M6nhacwT9b2w",
        "colab_type": "code",
        "colab": {},
        "outputId": "a80f56e2-e407-4733-9714-62787e0a19e6"
      },
      "source": [
        "# Your answer goes here\n",
        "L2 = [abs(x) for x in L1 if x % 2 == 0]\n",
        "sum(L2)"
      ],
      "execution_count": 0,
      "outputs": [
        {
          "output_type": "execute_result",
          "data": {
            "text/plain": [
              "2264"
            ]
          },
          "metadata": {
            "tags": []
          },
          "execution_count": 8
        }
      ]
    },
    {
      "cell_type": "markdown",
      "metadata": {
        "id": "mA7_C2bT9b2z",
        "colab_type": "text"
      },
      "source": [
        "# Question 6\n",
        "\n",
        "Write a function that receives a list of integer numbers and returns a list of numbers that are multiples of 4. Call this function `mult4_filter()`.\n",
        "\n",
        "**Given the list `L3` below how many elements the outcome of `mult4_filter(L3)` has?**\n",
        "\n",
        "Hint: use `len(mult4_filter(L3))` to get the number of elements."
      ]
    },
    {
      "cell_type": "code",
      "metadata": {
        "id": "RkQKcRWv9b2z",
        "colab_type": "code",
        "colab": {}
      },
      "source": [
        "L3 = [15, 11,  1,  3, 13,  3, 14, 16, 17, 17,  6, 18, 10, 19,  8,  1, 18,\n",
        "      17, 14,  1,  5,  2, 13,  0,  1, 13, 16,  8,  5, 11, 12,  8, 17, 14,\n",
        "      10, 18, 17, 16,  3,  7,  8, 15, 18,  7, 10,  5,  7, 16,  6,  5]"
      ],
      "execution_count": 0,
      "outputs": []
    },
    {
      "cell_type": "code",
      "metadata": {
        "id": "OLSlhDsf9b23",
        "colab_type": "code",
        "colab": {}
      },
      "source": [
        "# Your answer goes here\n",
        "def mult4_filter(L):\n",
        "    num = []\n",
        "    for n in L:\n",
        "        if n % 4 == 0:\n",
        "            num.append(n)\n",
        "    return num     "
      ],
      "execution_count": 0,
      "outputs": []
    },
    {
      "cell_type": "code",
      "metadata": {
        "id": "iEdkKpum9b25",
        "colab_type": "code",
        "colab": {},
        "outputId": "282c39f7-e8b9-4a41-f1d1-444a111f98e8"
      },
      "source": [
        "len(mult4_filter(L3))"
      ],
      "execution_count": 0,
      "outputs": [
        {
          "output_type": "execute_result",
          "data": {
            "text/plain": [
              "10"
            ]
          },
          "metadata": {
            "tags": []
          },
          "execution_count": 11
        }
      ]
    }
  ]
}